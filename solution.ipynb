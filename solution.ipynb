{
 "cells": [
  {
   "cell_type": "markdown",
   "metadata": {},
   "source": [
    "# Palmer Penguins Identification\n",
    "\n",
    "## Purpose\n",
    "The purpose of this project is to classify Palmer Penguins using Machine Learning and improve self-understanding.\n",
    "\n",
    "## Problem\n",
    "Researchers spent time collecting data on penguins near the Palmer Station in Antarctica. Given a set of data on a given penguin, \n",
    "a model should be able to classify & predict what type of penguin it is.\n",
    "\n",
    "## Solution"
   ]
  },
  {
   "attachments": {},
   "cell_type": "markdown",
   "metadata": {},
   "source": [
    "### Pre-processing"
   ]
  },
  {
   "cell_type": "code",
   "execution_count": 1,
   "metadata": {},
   "outputs": [],
   "source": [
    "import numpy as np\n",
    "import pandas as pd"
   ]
  },
  {
   "cell_type": "code",
   "execution_count": null,
   "metadata": {},
   "outputs": [],
   "source": [
    "df = pd.read_csv"
   ]
  },
  {
   "cell_type": "code",
   "execution_count": null,
   "metadata": {},
   "outputs": [],
   "source": []
  }
 ],
 "metadata": {
  "kernelspec": {
   "display_name": ".venv",
   "language": "python",
   "name": "python3"
  },
  "language_info": {
   "codemirror_mode": {
    "name": "ipython",
    "version": 3
   },
   "file_extension": ".py",
   "mimetype": "text/x-python",
   "name": "python",
   "nbconvert_exporter": "python",
   "pygments_lexer": "ipython3",
   "version": "3.10.6"
  },
  "orig_nbformat": 4,
  "vscode": {
   "interpreter": {
    "hash": "519e969d444e95a78a844e48b1f8aa42f815a5929be9d7fb4e81c61d525fae40"
   }
  }
 },
 "nbformat": 4,
 "nbformat_minor": 2
}
